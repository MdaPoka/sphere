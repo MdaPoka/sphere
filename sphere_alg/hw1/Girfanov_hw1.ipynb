{
 "cells": [
  {
   "cell_type": "markdown",
   "metadata": {},
   "source": [
    "**Общая информация**\n",
    "\n",
    "**Срок сдачи:** 20 марта 2019, 06:00 <br\\>\n",
    "**Штраф за опоздание:** -1 балл после 06:00 20 марта, -2 балла после 06:00 27 марта, -3 балла после 06:00 3 апреля\n",
    "-4 балла после 06:00 10 апреля\n",
    "\n",
    "При отправлении ДЗ указывайте фамилию в названии файла\n",
    "Присылать ДЗ необходимо в виде ссылки на свой github репозиторий в slack @alkhamush\n",
    "\n",
    "Необходимо в slack скинуть ссылку в личный чат @alkhamush\n",
    "Пример ссылки:\n",
    "https://github.com/stroykova/spheremailru/stroykova_hw1.ipynb \n",
    "\n",
    "\n",
    "Используйте данный Ipython Notebook при оформлении домашнего задания."
   ]
  },
  {
   "cell_type": "markdown",
   "metadata": {},
   "source": [
    "##### Задание 1 (2 баллов)\n",
    "Реализовать KNN в классе MyKNeighborsClassifier (обязательное условие: точность не ниже sklearn реализации)\n",
    "Разберитесь самостоятельно, какая мера расстояния используется в KNeighborsClassifier дефолтно и реализуйте свой алгоритм именно с этой мерой. Самостоятельно разберитесь, как считается score из KNeighborsClassifier и реализуйте аналог в своём классе. Score не должен уступать значению KNN из sklearn\n",
    "\n",
    "###### Задание 2 (2 балла)\n",
    "Добиться скорости работы на fit,  predict и predict_proba сравнимой со sklearn для iris и mnist\n",
    "Для этого используем numpy\n",
    "\n",
    "###### Задание 3 (2 балла)\n",
    "Для iris найдите такой параметр n_neighbors, при котором выдаётся наилучший score. Нарисуйте график зависимости score от n_neighbors\n",
    "\n",
    "###### Задание 4 (3 балла)\n",
    "Добавить algorithm='kd_tree' в реализацию KNN (использовать KDTree из sklearn.neighbors). Добиться скорости работы на fit,  predict и predict_proba сравнимой со sklearn для iris и mnist\n",
    "Для этого используем numpy. Score не должен уступать значению KNN из sklearn\n",
    "\n",
    "###### Задание 5 (1 балла)\n",
    "Описать для чего нужны следующие библиотеки/классы/функции (список будет ниже)\n",
    "\n",
    "**Штрафные баллы:**\n",
    "\n",
    "1. Невыполнение PEP8 -0.5 баллов\n",
    "2. Отсутствие фамилии в имени скрипта (скрипт должен называться по аналогии со stroykova_hw1.ipynb) -0.5 баллов\n",
    "3. Все строчки должны быть выполнены. Нужно, чтобы output команды можно было увидеть уже в git'е. В противном случае -0.5 баллов\n",
    "4. При оформлении ДЗ нужно пользоваться данным файлом в качестве шаблона. Не нужно удалять и видоизменять структуру кода и текст. В противном случае -0.5 баллов\n"
   ]
  },
  {
   "cell_type": "code",
   "execution_count": 15,
   "metadata": {},
   "outputs": [],
   "source": [
    "import numpy as np\n",
    "import matplotlib.pyplot as plt\n",
    "\n",
    "import seaborn as sns\n",
    "from sklearn import datasets\n",
    "from sklearn.base import ClassifierMixin\n",
    "from sklearn.datasets import fetch_openml\n",
    "from sklearn.neighbors.base import NeighborsBase, KNeighborsMixin, SupervisedIntegerMixin \n",
    "from sklearn.model_selection import train_test_split\n",
    "from sklearn.neighbors import KNeighborsClassifier\n",
    "#%load_ext pycodestyle_magic"
   ]
  },
  {
   "cell_type": "code",
   "execution_count": 2,
   "metadata": {},
   "outputs": [],
   "source": [
    "#%%pycodestyle\n",
    "# Закомментированные magics не работают(не устанавливаются необходимые зависимости)\n",
    "class MyKNeighborsClassifier(NeighborsBase, KNeighborsMixin, SupervisedIntegerMixin, ClassifierMixin):\n",
    "    \n",
    "    def __init__(self, n_neighbors, algorithm='brute'):\n",
    "        self.n_neighbors = n_neighbors\n",
    "        self.algorithm = algorithm\n",
    "        pass\n",
    "    \n",
    "    def fit(self, X, y):\n",
    "        if(self.algorithm == 'brute'):\n",
    "            self.X = X.copy()\n",
    "        if(self.algorithm == 'kd_tree'):\n",
    "            from sklearn.neighbors import KDTree\n",
    "            self.X = KDTree(X)\n",
    "        self.Y = y.copy()\n",
    "        self.Y_numb = np.asarray(self.Y, dtype = np.uint32) \n",
    "        self.n_class = np.unique(self.Y).shape[0]\n",
    "        return self.fit\n",
    "    \n",
    "    def predict(self, X):\n",
    "        if self.algorithm == 'brute':\n",
    "            from sklearn.metrics import pairwise_distances_chunked\n",
    "            def my_reduce_func(chank, start):\n",
    "                return self.Y[np.argpartition(chank, self.n_neighbors, axis = 1)[:,:self.n_neighbors]]\n",
    "            tmp = pairwise_distances_chunked(X, self.X, reduce_func = my_reduce_func)\n",
    "            return np.asarray([np.unique(i)[np.argmax(np.unique(i, return_counts = True)[1])]\n",
    "                               for i in list(tmp)[0]])\n",
    "        \n",
    "        if self.algorithm == 'kd_tree':\n",
    "            tmp = self.Y[self.X.query(X, k = self.n_neighbors, return_distance = False)]\n",
    "        return np.asarray([np.unique(i)[np.argmax(np.unique(i, return_counts = True)[1])] for i in tmp])\n",
    "        \n",
    "    def predict_proba(self, X):\n",
    "        if(self.algorithm == 'brute'):\n",
    "            from sklearn.metrics import pairwise_distances_chunked\n",
    "            def my_reduce_func(chank, start):\n",
    "                return self.Y_numb[np.argpartition(chank,\n",
    "                                                   self.n_neighbors, axis = 1)[:,:self.n_neighbors]]\n",
    "            tmp = pairwise_distances_chunked(X, self.X, reduce_func = my_reduce_func)\n",
    "            tmp = np.apply_along_axis(np.bincount, 1, list(tmp)[0], minlength = self.n_class)\n",
    "        if(self.algorithm == 'kd_tree'):\n",
    "            tmp = self.Y_numb[self.X.query(X, k = self.n_neighbors, return_distance = False)]\n",
    "            tmp = np.apply_along_axis(np.bincount, 1, tmp, minlength = self.n_class)\n",
    "        return tmp / np.sum(tmp, axis = 1).reshape((tmp.shape[0],1))\n",
    "    \n",
    "    def score(self, X, y):\n",
    "        tmp = self.predict(X) == y\n",
    "        return np.sum(tmp)/tmp.shape[0]"
   ]
  },
  {
   "cell_type": "markdown",
   "metadata": {},
   "source": [
    "**IRIS**"
   ]
  },
  {
   "cell_type": "code",
   "execution_count": 37,
   "metadata": {},
   "outputs": [],
   "source": [
    "iris = datasets.load_iris()"
   ]
  },
  {
   "cell_type": "code",
   "execution_count": 38,
   "metadata": {},
   "outputs": [],
   "source": [
    "X_train, X_test, y_train, y_test = train_test_split(iris.data, iris.target,\n",
    "                                                    test_size=0.1, stratify=iris.target)"
   ]
  },
  {
   "cell_type": "code",
   "execution_count": 5,
   "metadata": {},
   "outputs": [],
   "source": [
    "clf = KNeighborsClassifier(n_neighbors=2, algorithm='brute')\n",
    "my_clf = MyKNeighborsClassifier(n_neighbors=2, algorithm='brute')"
   ]
  },
  {
   "cell_type": "code",
   "execution_count": 6,
   "metadata": {},
   "outputs": [
    {
     "name": "stdout",
     "output_type": "stream",
     "text": [
      "Wall time: 1.22 ms\n"
     ]
    },
    {
     "data": {
      "text/plain": [
       "KNeighborsClassifier(algorithm='brute', leaf_size=30, metric='minkowski',\n",
       "           metric_params=None, n_jobs=None, n_neighbors=2, p=2,\n",
       "           weights='uniform')"
      ]
     },
     "execution_count": 6,
     "metadata": {},
     "output_type": "execute_result"
    }
   ],
   "source": [
    "%time clf.fit(X_train, y_train)"
   ]
  },
  {
   "cell_type": "code",
   "execution_count": 7,
   "metadata": {},
   "outputs": [
    {
     "name": "stdout",
     "output_type": "stream",
     "text": [
      "Wall time: 0 ns\n"
     ]
    },
    {
     "data": {
      "text/plain": [
       "<bound method MyKNeighborsClassifier.fit of MyKNeighborsClassifier(algorithm='brute', n_neighbors=2)>"
      ]
     },
     "execution_count": 7,
     "metadata": {},
     "output_type": "execute_result"
    }
   ],
   "source": [
    "%time my_clf.fit(X_train, y_train)"
   ]
  },
  {
   "cell_type": "code",
   "execution_count": 8,
   "metadata": {},
   "outputs": [
    {
     "name": "stdout",
     "output_type": "stream",
     "text": [
      "Wall time: 20.4 ms\n"
     ]
    },
    {
     "data": {
      "text/plain": [
       "array([0, 2, 1, 2, 1, 0, 0, 2, 1, 0, 0, 2, 2, 1, 1])"
      ]
     },
     "execution_count": 8,
     "metadata": {},
     "output_type": "execute_result"
    }
   ],
   "source": [
    "%time clf.predict(X_test)"
   ]
  },
  {
   "cell_type": "code",
   "execution_count": 9,
   "metadata": {},
   "outputs": [
    {
     "name": "stdout",
     "output_type": "stream",
     "text": [
      "Wall time: 6.61 ms\n"
     ]
    },
    {
     "data": {
      "text/plain": [
       "array([0, 2, 1, 2, 1, 0, 0, 2, 1, 0, 0, 2, 2, 1, 1])"
      ]
     },
     "execution_count": 9,
     "metadata": {},
     "output_type": "execute_result"
    }
   ],
   "source": [
    "%time my_clf.predict(X_test)"
   ]
  },
  {
   "cell_type": "code",
   "execution_count": 10,
   "metadata": {},
   "outputs": [
    {
     "name": "stdout",
     "output_type": "stream",
     "text": [
      "Wall time: 0 ns\n"
     ]
    },
    {
     "data": {
      "text/plain": [
       "array([[1., 0., 0.],\n",
       "       [0., 0., 1.],\n",
       "       [0., 1., 0.],\n",
       "       [0., 0., 1.],\n",
       "       [0., 1., 0.],\n",
       "       [1., 0., 0.],\n",
       "       [1., 0., 0.],\n",
       "       [0., 0., 1.],\n",
       "       [0., 1., 0.],\n",
       "       [1., 0., 0.],\n",
       "       [1., 0., 0.],\n",
       "       [0., 0., 1.],\n",
       "       [0., 0., 1.],\n",
       "       [0., 1., 0.],\n",
       "       [0., 1., 0.]])"
      ]
     },
     "execution_count": 10,
     "metadata": {},
     "output_type": "execute_result"
    }
   ],
   "source": [
    "%time clf.predict_proba(X_test)"
   ]
  },
  {
   "cell_type": "code",
   "execution_count": 11,
   "metadata": {},
   "outputs": [
    {
     "name": "stdout",
     "output_type": "stream",
     "text": [
      "Wall time: 997 µs\n"
     ]
    },
    {
     "data": {
      "text/plain": [
       "array([[1., 0., 0.],\n",
       "       [0., 0., 1.],\n",
       "       [0., 1., 0.],\n",
       "       [0., 0., 1.],\n",
       "       [0., 1., 0.],\n",
       "       [1., 0., 0.],\n",
       "       [1., 0., 0.],\n",
       "       [0., 0., 1.],\n",
       "       [0., 1., 0.],\n",
       "       [1., 0., 0.],\n",
       "       [1., 0., 0.],\n",
       "       [0., 0., 1.],\n",
       "       [0., 0., 1.],\n",
       "       [0., 1., 0.],\n",
       "       [0., 1., 0.]])"
      ]
     },
     "execution_count": 11,
     "metadata": {},
     "output_type": "execute_result"
    }
   ],
   "source": [
    "%time my_clf.predict_proba(X_test)"
   ]
  },
  {
   "cell_type": "code",
   "execution_count": 12,
   "metadata": {},
   "outputs": [
    {
     "data": {
      "text/plain": [
       "1.0"
      ]
     },
     "execution_count": 12,
     "metadata": {},
     "output_type": "execute_result"
    }
   ],
   "source": [
    "clf.score(X_test, y_test)"
   ]
  },
  {
   "cell_type": "code",
   "execution_count": 13,
   "metadata": {},
   "outputs": [
    {
     "data": {
      "text/plain": [
       "1.0"
      ]
     },
     "execution_count": 13,
     "metadata": {},
     "output_type": "execute_result"
    }
   ],
   "source": [
    "my_clf.score(X_test, y_test)"
   ]
  },
  {
   "cell_type": "markdown",
   "metadata": {},
   "source": [
    "Задание 3"
   ]
  },
  {
   "cell_type": "code",
   "execution_count": 41,
   "metadata": {},
   "outputs": [
    {
     "data": {
      "image/png": "[encoded data removed]",
      "text/plain": [
       "<Figure size 1008x360 with 1 Axes>"
      ]
     },
     "metadata": {
      "needs_background": "light"
     },
     "output_type": "display_data"
    }
   ],
   "source": [
    "y = []\n",
    "for i in range(1, 100):\n",
    "    my_clf = MyKNeighborsClassifier(n_neighbors=i)\n",
    "    my_clf.fit(X_train, y_train)\n",
    "    y.append(my_clf.score(X_test, y_test))\n",
    "plt.figure(figsize=(14,5))\n",
    "plt.plot(y);"
   ]
  },
  {
   "cell_type": "markdown",
   "metadata": {},
   "source": [
    "**MNIST**"
   ]
  },
  {
   "cell_type": "code",
   "execution_count": 16,
   "metadata": {},
   "outputs": [],
   "source": [
    "mnist = fetch_openml('mnist_784', version=1, cache=True)"
   ]
  },
  {
   "cell_type": "code",
   "execution_count": 17,
   "metadata": {},
   "outputs": [],
   "source": [
    "X_train, X_test, y_train, y_test = train_test_split(mnist.data, mnist.target,\n",
    "                                                    test_size=0.01, stratify=mnist.target)"
   ]
  },
  {
   "cell_type": "code",
   "execution_count": 18,
   "metadata": {},
   "outputs": [],
   "source": [
    "clf = KNeighborsClassifier(n_neighbors=2, algorithm='brute')\n",
    "my_clf = MyKNeighborsClassifier(n_neighbors=2, algorithm='brute')"
   ]
  },
  {
   "cell_type": "code",
   "execution_count": 19,
   "metadata": {},
   "outputs": [
    {
     "name": "stdout",
     "output_type": "stream",
     "text": [
      "Wall time: 409 ms\n"
     ]
    },
    {
     "data": {
      "text/plain": [
       "KNeighborsClassifier(algorithm='brute', leaf_size=30, metric='minkowski',\n",
       "           metric_params=None, n_jobs=None, n_neighbors=2, p=2,\n",
       "           weights='uniform')"
      ]
     },
     "execution_count": 19,
     "metadata": {},
     "output_type": "execute_result"
    }
   ],
   "source": [
    "%time clf.fit(X_train, y_train)"
   ]
  },
  {
   "cell_type": "code",
   "execution_count": 20,
   "metadata": {},
   "outputs": [
    {
     "name": "stdout",
     "output_type": "stream",
     "text": [
      "Wall time: 238 ms\n"
     ]
    },
    {
     "data": {
      "text/plain": [
       "<bound method MyKNeighborsClassifier.fit of MyKNeighborsClassifier(algorithm='brute', n_neighbors=2)>"
      ]
     },
     "execution_count": 20,
     "metadata": {},
     "output_type": "execute_result"
    }
   ],
   "source": [
    "%time my_clf.fit(X_train, y_train)"
   ]
  },
  {
   "cell_type": "code",
   "execution_count": 21,
   "metadata": {},
   "outputs": [
    {
     "name": "stdout",
     "output_type": "stream",
     "text": [
      "Wall time: 3.16 s\n"
     ]
    },
    {
     "data": {
      "text/plain": [
       "array(['8', '3', '0', '4', '7', '6', '3', '7', '0', '6', '5', '7', '3',\n",
       "       '9', '9', '6', '6', '7', '5', '6', '3', '5', '0', '4', '0', '1',\n",
       "       '2', '8', '5', '5', '1', '2', '3', '5', '5', '0', '4', '0', '1',\n",
       "       '4', '6', '3', '2', '4', '2', '6', '8', '5', '4', '6', '8', '3',\n",
       "       '1', '1', '9', '5', '2', '5', '3', '6', '7', '2', '5', '4', '4',\n",
       "       '2', '7', '7', '6', '6', '1', '3', '1', '3', '1', '9', '8', '3',\n",
       "       '9', '8', '1', '3', '9', '9', '7', '5', '1', '0', '7', '5', '9',\n",
       "       '3', '5', '2', '2', '1', '3', '8', '8', '2', '1', '4', '3', '1',\n",
       "       '9', '7', '6', '4', '3', '7', '2', '5', '1', '4', '7', '1', '1',\n",
       "       '3', '4', '8', '1', '3', '3', '0', '3', '8', '0', '7', '6', '0',\n",
       "       '5', '8', '4', '3', '9', '3', '1', '7', '3', '1', '4', '0', '0',\n",
       "       '4', '6', '7', '6', '2', '5', '9', '0', '9', '7', '7', '0', '6',\n",
       "       '1', '5', '9', '0', '0', '8', '0', '0', '2', '6', '1', '8', '7',\n",
       "       '1', '0', '7', '7', '0', '0', '2', '1', '6', '6', '1', '6', '3',\n",
       "       '4', '6', '5', '4', '6', '2', '1', '2', '7', '8', '9', '8', '1',\n",
       "       '1', '2', '1', '9', '9', '1', '3', '2', '8', '8', '4', '9', '0',\n",
       "       '1', '9', '5', '9', '1', '7', '4', '8', '9', '2', '8', '9', '4',\n",
       "       '6', '0', '5', '4', '9', '9', '6', '7', '9', '2', '3', '8', '1',\n",
       "       '4', '7', '5', '1', '1', '1', '9', '1', '6', '9', '5', '8', '1',\n",
       "       '3', '9', '7', '4', '3', '8', '7', '2', '5', '8', '0', '1', '7',\n",
       "       '5', '7', '0', '5', '1', '2', '7', '9', '3', '5', '8', '3', '4',\n",
       "       '2', '4', '0', '8', '0', '1', '9', '3', '5', '2', '6', '2', '6',\n",
       "       '8', '9', '4', '4', '0', '5', '3', '9', '1', '3', '0', '8', '3',\n",
       "       '6', '1', '8', '6', '8', '0', '3', '9', '7', '2', '9', '6', '9',\n",
       "       '1', '0', '5', '9', '0', '2', '2', '0', '4', '5', '8', '0', '1',\n",
       "       '7', '9', '5', '5', '9', '0', '3', '6', '5', '0', '3', '2', '6',\n",
       "       '4', '4', '5', '4', '5', '0', '2', '2', '0', '3', '3', '3', '1',\n",
       "       '8', '1', '7', '0', '4', '8', '7', '7', '3', '6', '9', '0', '3',\n",
       "       '1', '2', '5', '7', '7', '8', '2', '9', '7', '6', '6', '2', '7',\n",
       "       '2', '2', '4', '7', '3', '1', '3', '4', '7', '5', '0', '6', '0',\n",
       "       '9', '5', '7', '4', '3', '9', '6', '8', '0', '7', '2', '2', '2',\n",
       "       '1', '3', '6', '3', '2', '4', '1', '7', '9', '3', '2', '5', '6',\n",
       "       '8', '0', '8', '2', '4', '0', '6', '0', '5', '6', '2', '2', '7',\n",
       "       '6', '8', '7', '6', '1', '2', '8', '9', '0', '2', '3', '3', '5',\n",
       "       '7', '7', '9', '4', '9', '7', '2', '1', '9', '2', '9', '1', '1',\n",
       "       '4', '5', '3', '4', '3', '0', '0', '9', '2', '2', '6', '6', '9',\n",
       "       '6', '6', '1', '7', '4', '6', '8', '2', '1', '2', '3', '9', '4',\n",
       "       '6', '1', '8', '1', '0', '1', '4', '5', '4', '3', '0', '1', '2',\n",
       "       '2', '4', '9', '7', '6', '1', '9', '0', '4', '3', '6', '8', '7',\n",
       "       '6', '3', '0', '1', '2', '3', '2', '2', '1', '8', '9', '8', '4',\n",
       "       '2', '0', '8', '3', '1', '8', '1', '9', '8', '4', '2', '3', '9',\n",
       "       '1', '0', '0', '9', '7', '1', '1', '4', '7', '7', '4', '1', '4',\n",
       "       '8', '2', '6', '3', '7', '9', '8', '3', '4', '1', '3', '9', '0',\n",
       "       '5', '7', '6', '0', '5', '7', '4', '7', '2', '1', '5', '0', '3',\n",
       "       '5', '5', '8', '3', '6', '7', '4', '3', '2', '5', '0', '1', '3',\n",
       "       '5', '8', '3', '0', '4', '5', '7', '0', '1', '0', '8', '3', '4',\n",
       "       '8', '5', '5', '2', '7', '7', '6', '9', '1', '2', '6', '2', '6',\n",
       "       '1', '0', '8', '4', '1', '7', '7', '5', '9', '8', '0', '0', '3',\n",
       "       '6', '5', '4', '2', '5', '4', '4', '4', '4', '4', '5', '2', '8',\n",
       "       '2', '5', '3', '1', '9', '6', '4', '1', '7', '0', '5', '8', '5',\n",
       "       '0', '9', '3', '6', '5', '8', '0', '9', '7', '5', '7', '6', '7',\n",
       "       '5', '5', '6', '3', '7', '0', '0', '1', '3', '3', '6', '1', '8',\n",
       "       '1', '4', '9', '7', '7', '1', '4', '7', '9', '6', '0', '2', '3',\n",
       "       '8', '1', '2', '9', '0', '3', '3', '7', '2', '6', '7'],\n",
       "      dtype=object)"
      ]
     },
     "execution_count": 21,
     "metadata": {},
     "output_type": "execute_result"
    }
   ],
   "source": [
    "%time clf.predict(X_test)"
   ]
  },
  {
   "cell_type": "code",
   "execution_count": 22,
   "metadata": {},
   "outputs": [
    {
     "name": "stdout",
     "output_type": "stream",
     "text": [
      "Wall time: 3.27 s\n"
     ]
    },
    {
     "data": {
      "text/plain": [
       "array(['8', '3', '0', '4', '7', '6', '3', '7', '0', '6', '5', '7', '3',\n",
       "       '9', '9', '6', '6', '7', '5', '6', '3', '5', '0', '4', '0', '1',\n",
       "       '2', '8', '5', '5', '1', '2', '3', '5', '5', '0', '4', '0', '1',\n",
       "       '4', '6', '3', '2', '4', '2', '6', '8', '5', '4', '6', '8', '3',\n",
       "       '1', '1', '9', '5', '2', '5', '3', '6', '7', '2', '5', '4', '4',\n",
       "       '2', '7', '7', '6', '6', '1', '3', '1', '3', '1', '9', '8', '3',\n",
       "       '9', '8', '1', '3', '9', '9', '7', '5', '1', '0', '7', '5', '9',\n",
       "       '3', '5', '2', '2', '1', '3', '8', '8', '2', '1', '4', '3', '1',\n",
       "       '9', '7', '6', '4', '3', '7', '2', '5', '1', '4', '7', '1', '1',\n",
       "       '3', '4', '8', '1', '3', '3', '0', '3', '8', '0', '7', '6', '0',\n",
       "       '5', '8', '4', '3', '9', '3', '1', '7', '3', '1', '4', '0', '0',\n",
       "       '4', '6', '7', '6', '2', '5', '9', '0', '9', '7', '7', '0', '6',\n",
       "       '1', '5', '9', '0', '0', '8', '0', '0', '2', '6', '1', '8', '7',\n",
       "       '1', '0', '7', '7', '0', '0', '2', '1', '6', '6', '1', '6', '3',\n",
       "       '4', '6', '5', '4', '6', '2', '1', '2', '7', '8', '9', '8', '1',\n",
       "       '1', '2', '1', '9', '9', '1', '3', '2', '8', '8', '4', '9', '0',\n",
       "       '1', '9', '5', '9', '1', '7', '4', '8', '9', '2', '8', '9', '4',\n",
       "       '6', '0', '5', '4', '9', '9', '6', '7', '9', '2', '3', '8', '1',\n",
       "       '4', '7', '5', '1', '1', '1', '9', '1', '6', '9', '5', '8', '1',\n",
       "       '3', '9', '7', '4', '3', '8', '7', '2', '5', '8', '0', '1', '7',\n",
       "       '5', '7', '0', '5', '1', '2', '7', '9', '3', '5', '8', '3', '4',\n",
       "       '2', '4', '0', '8', '0', '1', '9', '3', '5', '2', '6', '2', '6',\n",
       "       '8', '9', '4', '4', '0', '5', '3', '9', '1', '3', '0', '8', '3',\n",
       "       '6', '1', '8', '6', '8', '0', '3', '9', '7', '2', '9', '6', '9',\n",
       "       '1', '0', '5', '9', '0', '2', '2', '0', '4', '5', '8', '0', '1',\n",
       "       '7', '9', '5', '5', '9', '0', '3', '6', '5', '0', '3', '2', '6',\n",
       "       '4', '4', '5', '4', '5', '0', '2', '2', '0', '3', '3', '3', '1',\n",
       "       '8', '1', '7', '0', '4', '8', '7', '7', '3', '6', '9', '0', '3',\n",
       "       '1', '2', '5', '7', '7', '8', '2', '9', '7', '6', '6', '2', '7',\n",
       "       '2', '2', '4', '7', '3', '1', '3', '4', '7', '5', '0', '6', '0',\n",
       "       '9', '5', '7', '4', '3', '9', '6', '8', '0', '7', '2', '2', '2',\n",
       "       '1', '3', '6', '3', '2', '4', '1', '7', '9', '3', '2', '5', '6',\n",
       "       '8', '0', '8', '2', '4', '0', '6', '0', '5', '6', '2', '2', '7',\n",
       "       '6', '8', '7', '6', '1', '2', '8', '9', '0', '2', '3', '3', '5',\n",
       "       '7', '7', '9', '4', '9', '7', '2', '1', '9', '2', '9', '1', '1',\n",
       "       '4', '5', '3', '4', '3', '0', '0', '9', '2', '2', '6', '6', '9',\n",
       "       '6', '6', '1', '7', '4', '6', '8', '2', '1', '2', '3', '9', '4',\n",
       "       '6', '1', '8', '1', '0', '1', '4', '5', '4', '3', '0', '1', '2',\n",
       "       '2', '4', '9', '7', '6', '1', '9', '0', '4', '3', '6', '8', '7',\n",
       "       '6', '3', '0', '1', '2', '3', '2', '2', '1', '8', '9', '8', '4',\n",
       "       '2', '0', '8', '3', '1', '8', '1', '9', '8', '4', '2', '3', '9',\n",
       "       '1', '0', '0', '9', '7', '1', '1', '4', '7', '7', '4', '1', '4',\n",
       "       '8', '2', '6', '3', '7', '9', '8', '3', '4', '1', '3', '9', '0',\n",
       "       '5', '7', '6', '0', '5', '7', '4', '7', '2', '1', '5', '0', '3',\n",
       "       '5', '5', '8', '3', '6', '7', '4', '3', '2', '5', '0', '1', '3',\n",
       "       '5', '8', '3', '0', '4', '5', '7', '0', '1', '0', '8', '3', '4',\n",
       "       '8', '5', '5', '2', '7', '7', '6', '9', '1', '2', '6', '2', '6',\n",
       "       '1', '0', '8', '4', '1', '7', '7', '5', '9', '8', '0', '0', '3',\n",
       "       '6', '5', '4', '2', '5', '4', '4', '4', '4', '4', '5', '2', '8',\n",
       "       '2', '5', '3', '1', '9', '6', '4', '1', '7', '0', '5', '8', '5',\n",
       "       '0', '9', '3', '6', '5', '8', '0', '9', '7', '5', '7', '6', '7',\n",
       "       '5', '5', '6', '3', '7', '0', '0', '1', '3', '3', '6', '1', '8',\n",
       "       '1', '4', '9', '7', '7', '1', '4', '7', '9', '6', '0', '2', '3',\n",
       "       '8', '1', '2', '9', '0', '3', '3', '7', '2', '6', '7'], dtype='<U1')"
      ]
     },
     "execution_count": 22,
     "metadata": {},
     "output_type": "execute_result"
    }
   ],
   "source": [
    "%time my_clf.predict(X_test)"
   ]
  },
  {
   "cell_type": "code",
   "execution_count": 23,
   "metadata": {},
   "outputs": [
    {
     "name": "stdout",
     "output_type": "stream",
     "text": [
      "Wall time: 3 s\n"
     ]
    },
    {
     "data": {
      "text/plain": [
       "array([[0., 0., 0., ..., 0., 1., 0.],\n",
       "       [0., 0., 0., ..., 0., 0., 0.],\n",
       "       [1., 0., 0., ..., 0., 0., 0.],\n",
       "       ...,\n",
       "       [0., 0., 1., ..., 0., 0., 0.],\n",
       "       [0., 0., 0., ..., 0., 0., 0.],\n",
       "       [0., 0., 0., ..., 1., 0., 0.]])"
      ]
     },
     "execution_count": 23,
     "metadata": {},
     "output_type": "execute_result"
    }
   ],
   "source": [
    "%time clf.predict_proba(X_test)"
   ]
  },
  {
   "cell_type": "code",
   "execution_count": 24,
   "metadata": {},
   "outputs": [
    {
     "name": "stdout",
     "output_type": "stream",
     "text": [
      "Wall time: 3.21 s\n"
     ]
    },
    {
     "data": {
      "text/plain": [
       "array([[0., 0., 0., ..., 0., 1., 0.],\n",
       "       [0., 0., 0., ..., 0., 0., 0.],\n",
       "       [1., 0., 0., ..., 0., 0., 0.],\n",
       "       ...,\n",
       "       [0., 0., 1., ..., 0., 0., 0.],\n",
       "       [0., 0., 0., ..., 0., 0., 0.],\n",
       "       [0., 0., 0., ..., 1., 0., 0.]])"
      ]
     },
     "execution_count": 24,
     "metadata": {},
     "output_type": "execute_result"
    }
   ],
   "source": [
    "%time my_clf.predict_proba(X_test)"
   ]
  },
  {
   "cell_type": "code",
   "execution_count": 25,
   "metadata": {},
   "outputs": [
    {
     "data": {
      "text/plain": [
       "0.9714285714285714"
      ]
     },
     "execution_count": 25,
     "metadata": {},
     "output_type": "execute_result"
    }
   ],
   "source": [
    "clf.score(X_test, y_test)"
   ]
  },
  {
   "cell_type": "code",
   "execution_count": 26,
   "metadata": {},
   "outputs": [
    {
     "data": {
      "text/plain": [
       "0.9714285714285714"
      ]
     },
     "execution_count": 26,
     "metadata": {},
     "output_type": "execute_result"
    }
   ],
   "source": [
    "my_clf.score(X_test, y_test)"
   ]
  },
  {
   "cell_type": "markdown",
   "metadata": {},
   "source": [
    "Задание 4"
   ]
  },
  {
   "cell_type": "code",
   "execution_count": 27,
   "metadata": {},
   "outputs": [],
   "source": [
    "clf = KNeighborsClassifier(n_neighbors=2, algorithm='kd_tree')\n",
    "my_clf = MyKNeighborsClassifier(n_neighbors=2, algorithm='kd_tree')"
   ]
  },
  {
   "cell_type": "code",
   "execution_count": 28,
   "metadata": {},
   "outputs": [],
   "source": [
    "X_train, X_test, y_train, y_test = train_test_split(mnist.data, mnist.target,\n",
    "                                                    test_size=0.01, stratify = mnist.target)"
   ]
  },
  {
   "cell_type": "code",
   "execution_count": 29,
   "metadata": {},
   "outputs": [
    {
     "name": "stdout",
     "output_type": "stream",
     "text": [
      "Wall time: 51.7 s\n"
     ]
    },
    {
     "data": {
      "text/plain": [
       "KNeighborsClassifier(algorithm='kd_tree', leaf_size=30, metric='minkowski',\n",
       "           metric_params=None, n_jobs=None, n_neighbors=2, p=2,\n",
       "           weights='uniform')"
      ]
     },
     "execution_count": 29,
     "metadata": {},
     "output_type": "execute_result"
    }
   ],
   "source": [
    "%time clf.fit(X_train, y_train)"
   ]
  },
  {
   "cell_type": "code",
   "execution_count": 30,
   "metadata": {},
   "outputs": [
    {
     "name": "stdout",
     "output_type": "stream",
     "text": [
      "Wall time: 50.7 s\n"
     ]
    },
    {
     "data": {
      "text/plain": [
       "<bound method MyKNeighborsClassifier.fit of MyKNeighborsClassifier(algorithm='kd_tree', n_neighbors=2)>"
      ]
     },
     "execution_count": 30,
     "metadata": {},
     "output_type": "execute_result"
    }
   ],
   "source": [
    "%time my_clf.fit(X_train, y_train)"
   ]
  },
  {
   "cell_type": "code",
   "execution_count": 31,
   "metadata": {},
   "outputs": [
    {
     "name": "stdout",
     "output_type": "stream",
     "text": [
      "Wall time: 2min 40s\n"
     ]
    },
    {
     "data": {
      "text/plain": [
       "array(['7', '7', '3', '4', '9', '0', '2', '5', '8', '0', '1', '9', '1',\n",
       "       '4', '2', '1', '2', '8', '3', '2', '2', '7', '8', '3', '5', '9',\n",
       "       '7', '3', '4', '5', '0', '3', '9', '0', '4', '4', '2', '7', '0',\n",
       "       '5', '0', '8', '9', '9', '7', '1', '0', '6', '1', '3', '2', '6',\n",
       "       '3', '0', '0', '3', '3', '4', '6', '1', '2', '6', '6', '0', '9',\n",
       "       '0', '7', '9', '0', '3', '2', '1', '2', '4', '4', '4', '9', '8',\n",
       "       '3', '0', '0', '2', '2', '7', '3', '4', '9', '0', '0', '9', '6',\n",
       "       '9', '8', '9', '3', '4', '3', '9', '2', '3', '9', '2', '6', '7',\n",
       "       '3', '9', '4', '8', '5', '9', '1', '5', '6', '6', '0', '4', '8',\n",
       "       '0', '7', '6', '8', '4', '6', '1', '1', '0', '5', '1', '3', '6',\n",
       "       '5', '5', '1', '9', '0', '0', '2', '4', '5', '6', '0', '9', '8',\n",
       "       '0', '7', '9', '6', '9', '6', '7', '1', '7', '4', '3', '2', '6',\n",
       "       '3', '8', '8', '2', '0', '5', '1', '8', '0', '1', '9', '0', '7',\n",
       "       '3', '2', '7', '2', '8', '8', '6', '6', '1', '2', '3', '2', '1',\n",
       "       '2', '6', '9', '6', '8', '8', '2', '2', '9', '0', '0', '1', '4',\n",
       "       '0', '3', '6', '8', '9', '6', '5', '6', '4', '3', '5', '4', '0',\n",
       "       '8', '3', '9', '5', '5', '4', '9', '5', '8', '0', '9', '8', '4',\n",
       "       '8', '1', '1', '4', '2', '9', '1', '2', '6', '3', '1', '4', '7',\n",
       "       '7', '4', '0', '3', '6', '7', '2', '1', '8', '9', '0', '2', '0',\n",
       "       '2', '4', '4', '1', '9', '1', '0', '0', '1', '5', '6', '3', '3',\n",
       "       '0', '1', '9', '7', '2', '7', '1', '1', '5', '8', '0', '6', '7',\n",
       "       '5', '8', '1', '7', '5', '1', '6', '9', '3', '4', '3', '2', '4',\n",
       "       '2', '2', '7', '4', '3', '5', '1', '9', '6', '7', '2', '1', '1',\n",
       "       '9', '5', '3', '8', '7', '7', '1', '8', '5', '2', '7', '2', '2',\n",
       "       '7', '6', '7', '0', '4', '8', '4', '0', '2', '4', '4', '6', '3',\n",
       "       '3', '9', '4', '9', '3', '3', '1', '1', '1', '3', '3', '1', '8',\n",
       "       '8', '3', '3', '8', '8', '8', '7', '0', '6', '3', '8', '2', '0',\n",
       "       '0', '6', '8', '5', '3', '1', '9', '2', '4', '8', '2', '0', '1',\n",
       "       '8', '9', '8', '2', '5', '7', '6', '9', '3', '3', '4', '6', '0',\n",
       "       '2', '5', '4', '6', '3', '6', '0', '7', '8', '4', '5', '1', '6',\n",
       "       '9', '6', '2', '7', '2', '4', '6', '2', '0', '4', '4', '6', '7',\n",
       "       '2', '6', '5', '1', '2', '5', '2', '1', '0', '1', '7', '5', '7',\n",
       "       '6', '4', '5', '1', '3', '3', '1', '3', '5', '8', '7', '1', '1',\n",
       "       '4', '6', '1', '4', '5', '2', '7', '6', '1', '6', '2', '7', '0',\n",
       "       '1', '5', '1', '1', '4', '6', '9', '1', '0', '6', '6', '8', '3',\n",
       "       '8', '8', '7', '2', '8', '7', '9', '5', '4', '2', '0', '2', '8',\n",
       "       '1', '8', '5', '0', '2', '1', '7', '5', '1', '6', '4', '5', '0',\n",
       "       '0', '3', '3', '7', '6', '2', '2', '1', '0', '4', '9', '3', '0',\n",
       "       '1', '2', '4', '8', '9', '4', '2', '7', '7', '4', '8', '6', '2',\n",
       "       '0', '9', '9', '9', '6', '4', '3', '7', '6', '9', '4', '3', '0',\n",
       "       '5', '8', '2', '5', '7', '7', '0', '5', '1', '8', '2', '4', '8',\n",
       "       '1', '3', '9', '9', '6', '0', '3', '0', '9', '1', '6', '7', '4',\n",
       "       '1', '9', '8', '4', '7', '5', '7', '7', '2', '6', '4', '8', '5',\n",
       "       '7', '0', '9', '6', '3', '7', '5', '2', '4', '7', '9', '9', '8',\n",
       "       '4', '7', '3', '1', '1', '4', '6', '6', '3', '1', '5', '1', '3',\n",
       "       '9', '5', '9', '3', '3', '2', '3', '1', '1', '2', '5', '3', '5',\n",
       "       '5', '9', '6', '9', '5', '1', '9', '1', '3', '3', '1', '3', '5',\n",
       "       '7', '3', '2', '6', '8', '6', '8', '4', '2', '8', '3', '3', '0',\n",
       "       '1', '7', '4', '5', '7', '1', '7', '4', '3', '7', '4', '4', '8',\n",
       "       '7', '6', '6', '9', '1', '1', '0', '3', '7', '4', '5', '1', '0',\n",
       "       '0', '3', '4', '4', '5', '7', '5', '9', '8', '0', '3', '8', '8',\n",
       "       '7', '0', '2', '0', '5', '1', '7', '8', '6', '7', '3', '8', '3',\n",
       "       '1', '7', '6', '2', '9', '7', '1', '5', '1', '4', '5', '5', '7',\n",
       "       '7', '9', '7', '0', '9', '6', '5', '8', '9', '7', '2'],\n",
       "      dtype=object)"
      ]
     },
     "execution_count": 31,
     "metadata": {},
     "output_type": "execute_result"
    }
   ],
   "source": [
    "%time clf.predict(X_test)"
   ]
  },
  {
   "cell_type": "code",
   "execution_count": 32,
   "metadata": {},
   "outputs": [
    {
     "name": "stdout",
     "output_type": "stream",
     "text": [
      "Wall time: 2min 12s\n"
     ]
    },
    {
     "data": {
      "text/plain": [
       "array(['7', '7', '3', '4', '9', '0', '2', '5', '8', '0', '1', '9', '1',\n",
       "       '4', '2', '1', '2', '8', '3', '2', '2', '7', '8', '3', '5', '9',\n",
       "       '7', '3', '4', '5', '0', '3', '9', '0', '4', '4', '2', '7', '0',\n",
       "       '5', '0', '8', '9', '9', '7', '1', '0', '6', '1', '3', '2', '6',\n",
       "       '3', '0', '0', '3', '3', '4', '6', '1', '2', '6', '6', '0', '9',\n",
       "       '0', '7', '9', '0', '3', '2', '1', '2', '4', '4', '4', '9', '8',\n",
       "       '3', '0', '0', '2', '2', '7', '3', '4', '9', '0', '0', '9', '6',\n",
       "       '9', '8', '9', '3', '4', '3', '9', '2', '3', '9', '2', '6', '7',\n",
       "       '3', '9', '4', '8', '5', '9', '1', '5', '6', '6', '0', '4', '8',\n",
       "       '0', '7', '6', '8', '4', '6', '1', '1', '0', '5', '1', '3', '6',\n",
       "       '5', '5', '1', '9', '0', '0', '2', '4', '5', '6', '0', '9', '8',\n",
       "       '0', '7', '9', '6', '9', '6', '7', '1', '7', '4', '3', '2', '6',\n",
       "       '3', '8', '8', '2', '0', '5', '1', '8', '0', '1', '9', '0', '7',\n",
       "       '3', '2', '7', '2', '8', '8', '6', '6', '1', '2', '3', '2', '1',\n",
       "       '2', '6', '9', '6', '8', '8', '2', '2', '9', '0', '0', '1', '4',\n",
       "       '0', '3', '6', '8', '9', '6', '5', '6', '4', '3', '5', '4', '0',\n",
       "       '8', '3', '9', '5', '5', '4', '9', '5', '8', '0', '9', '8', '4',\n",
       "       '8', '1', '1', '4', '2', '9', '1', '2', '6', '3', '1', '4', '7',\n",
       "       '7', '4', '0', '3', '6', '7', '2', '1', '8', '9', '0', '2', '0',\n",
       "       '2', '4', '4', '1', '9', '1', '0', '0', '1', '5', '6', '3', '3',\n",
       "       '0', '1', '9', '7', '2', '7', '1', '1', '5', '8', '0', '6', '7',\n",
       "       '5', '8', '1', '7', '5', '1', '6', '9', '3', '4', '3', '2', '4',\n",
       "       '2', '2', '7', '4', '3', '5', '1', '9', '6', '7', '2', '1', '1',\n",
       "       '9', '5', '3', '8', '7', '7', '1', '8', '5', '2', '7', '2', '2',\n",
       "       '7', '6', '7', '0', '4', '8', '4', '0', '2', '4', '4', '6', '3',\n",
       "       '3', '9', '4', '9', '3', '3', '1', '1', '1', '3', '3', '1', '8',\n",
       "       '8', '3', '3', '8', '8', '8', '7', '0', '6', '3', '8', '2', '0',\n",
       "       '0', '6', '8', '5', '3', '1', '9', '2', '4', '8', '2', '0', '1',\n",
       "       '8', '9', '8', '2', '5', '7', '6', '9', '3', '3', '4', '6', '0',\n",
       "       '2', '5', '4', '6', '3', '6', '0', '7', '8', '4', '5', '1', '6',\n",
       "       '9', '6', '2', '7', '2', '4', '6', '2', '0', '4', '4', '6', '7',\n",
       "       '2', '6', '5', '1', '2', '5', '2', '1', '0', '1', '7', '5', '7',\n",
       "       '6', '4', '5', '1', '3', '3', '1', '3', '5', '8', '7', '1', '1',\n",
       "       '4', '6', '1', '4', '5', '2', '7', '6', '1', '6', '2', '7', '0',\n",
       "       '1', '5', '1', '1', '4', '6', '9', '1', '0', '6', '6', '8', '3',\n",
       "       '8', '8', '7', '2', '8', '7', '9', '5', '4', '2', '0', '2', '8',\n",
       "       '1', '8', '5', '0', '2', '1', '7', '5', '1', '6', '4', '5', '0',\n",
       "       '0', '3', '3', '7', '6', '2', '2', '1', '0', '4', '9', '3', '0',\n",
       "       '1', '2', '4', '8', '9', '4', '2', '7', '7', '4', '8', '6', '2',\n",
       "       '0', '9', '9', '9', '6', '4', '3', '7', '6', '9', '4', '3', '0',\n",
       "       '5', '8', '2', '5', '7', '7', '0', '5', '1', '8', '2', '4', '8',\n",
       "       '1', '3', '9', '9', '6', '0', '3', '0', '9', '1', '6', '7', '4',\n",
       "       '1', '9', '8', '4', '7', '5', '7', '7', '2', '6', '4', '8', '5',\n",
       "       '7', '0', '9', '6', '3', '7', '5', '2', '4', '7', '9', '9', '8',\n",
       "       '4', '7', '3', '1', '1', '4', '6', '6', '3', '1', '5', '1', '3',\n",
       "       '9', '5', '9', '3', '3', '2', '3', '1', '1', '2', '5', '3', '5',\n",
       "       '5', '9', '6', '9', '5', '1', '9', '1', '3', '3', '1', '3', '5',\n",
       "       '7', '3', '2', '6', '8', '6', '8', '4', '2', '8', '3', '3', '0',\n",
       "       '1', '7', '4', '5', '7', '1', '7', '4', '3', '7', '4', '4', '8',\n",
       "       '7', '6', '6', '9', '1', '1', '0', '3', '7', '4', '5', '1', '0',\n",
       "       '0', '3', '4', '4', '5', '7', '5', '9', '8', '0', '3', '8', '8',\n",
       "       '7', '0', '2', '0', '5', '1', '7', '8', '6', '7', '3', '8', '3',\n",
       "       '1', '7', '6', '2', '9', '7', '1', '5', '1', '4', '5', '5', '7',\n",
       "       '7', '9', '7', '0', '9', '6', '5', '8', '9', '7', '2'], dtype='<U1')"
      ]
     },
     "execution_count": 32,
     "metadata": {},
     "output_type": "execute_result"
    }
   ],
   "source": [
    "%time my_clf.predict(X_test)"
   ]
  },
  {
   "cell_type": "code",
   "execution_count": 33,
   "metadata": {},
   "outputs": [
    {
     "name": "stdout",
     "output_type": "stream",
     "text": [
      "Wall time: 1min 41s\n"
     ]
    },
    {
     "data": {
      "text/plain": [
       "array([[0., 0., 0., ..., 1., 0., 0.],\n",
       "       [0., 0., 0., ..., 1., 0., 0.],\n",
       "       [0., 0., 0., ..., 0., 0., 0.],\n",
       "       ...,\n",
       "       [0., 0., 0., ..., 0., 0., 1.],\n",
       "       [0., 0., 0., ..., 1., 0., 0.],\n",
       "       [0., 0., 1., ..., 0., 0., 0.]])"
      ]
     },
     "execution_count": 33,
     "metadata": {},
     "output_type": "execute_result"
    }
   ],
   "source": [
    "%time clf.predict_proba(X_test)"
   ]
  },
  {
   "cell_type": "code",
   "execution_count": 34,
   "metadata": {},
   "outputs": [
    {
     "name": "stdout",
     "output_type": "stream",
     "text": [
      "Wall time: 58.1 s\n"
     ]
    },
    {
     "data": {
      "text/plain": [
       "array([[0., 0., 0., ..., 1., 0., 0.],\n",
       "       [0., 0., 0., ..., 1., 0., 0.],\n",
       "       [0., 0., 0., ..., 0., 0., 0.],\n",
       "       ...,\n",
       "       [0., 0., 0., ..., 0., 0., 1.],\n",
       "       [0., 0., 0., ..., 1., 0., 0.],\n",
       "       [0., 0., 1., ..., 0., 0., 0.]])"
      ]
     },
     "execution_count": 34,
     "metadata": {},
     "output_type": "execute_result"
    }
   ],
   "source": [
    "%time my_clf.predict_proba(X_test)"
   ]
  },
  {
   "cell_type": "code",
   "execution_count": 35,
   "metadata": {},
   "outputs": [
    {
     "data": {
      "text/plain": [
       "0.97"
      ]
     },
     "execution_count": 35,
     "metadata": {},
     "output_type": "execute_result"
    }
   ],
   "source": [
    "clf.score(X_test, y_test)"
   ]
  },
  {
   "cell_type": "code",
   "execution_count": 36,
   "metadata": {},
   "outputs": [
    {
     "data": {
      "text/plain": [
       "0.97"
      ]
     },
     "execution_count": 36,
     "metadata": {},
     "output_type": "execute_result"
    }
   ],
   "source": [
    "my_clf.score(X_test, y_test)"
   ]
  },
  {
   "cell_type": "markdown",
   "metadata": {},
   "source": [
    "Задание 5"
   ]
  },
  {
   "cell_type": "code",
   "execution_count": null,
   "metadata": {},
   "outputs": [],
   "source": [
    " #seaborn - визуализация данных\n",
    " #matplotlib - визуализация данных\n",
    " #train_test_split - разделение датасета на train & test \n",
    " #Pipelin%load_ext e (from sklearn.pipeline import Pipeline) - создание цепи последовательных преобразований\n",
    " #StandardScaler (from sklearn.preprocessing import StandardScaler) -\n",
    " #     -преобразование z = (x - u) / s, u - среднее x, s - дисперсия x\n",
    " #ClassifierMixin - Mixin class for all classifiers in scikit-learn.\n",
    " #NeighborsBase - Base class for nearest neighbors estimators\n",
    " #KNeighborsMixin - Mixin for k-neighbors searches\n",
    " #SupervisedIntegerMixin -\n",
    " #      - содержит метод fit  который валидирует данные и ,при необходимости(и возможности),\n",
    " #        приводит их к нужному формату, затем вызывает метод _fit"
   ]
  }
 ],
 "metadata": {
  "kernelspec": {
   "display_name": "Python 3",
   "language": "python",
   "name": "python3"
  },
  "language_info": {
   "codemirror_mode": {
    "name": "ipython",
    "version": 3
   },
   "file_extension": ".py",
   "mimetype": "text/x-python",
   "name": "python",
   "nbconvert_exporter": "python",
   "pygments_lexer": "ipython3",
   "version": "3.7.1"
  }
 },
 "nbformat": 4,
 "nbformat_minor": 2
}
